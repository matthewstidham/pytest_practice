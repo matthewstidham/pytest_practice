{
 "cells": [
  {
   "cell_type": "code",
   "execution_count": 2,
   "id": "5d59e75c",
   "metadata": {},
   "outputs": [],
   "source": [
    "root_two = 2 ** 0.5"
   ]
  },
  {
   "cell_type": "code",
   "execution_count": 3,
   "id": "6b83545c",
   "metadata": {},
   "outputs": [
    {
     "data": {
      "text/plain": [
       "1.4142135623730951"
      ]
     },
     "execution_count": 3,
     "metadata": {},
     "output_type": "execute_result"
    }
   ],
   "source": [
    "root_two"
   ]
  },
  {
   "cell_type": "code",
   "execution_count": null,
   "id": "80d3b276",
   "metadata": {},
   "outputs": [],
   "source": []
  }
 ],
 "metadata": {
  "kernelspec": {
   "display_name": "Python 3 (ipykernel)",
   "language": "python",
   "name": "python3"
  },
  "language_info": {
   "codemirror_mode": {
    "name": "ipython",
    "version": 3
   },
   "file_extension": ".py",
   "mimetype": "text/x-python",
   "name": "python",
   "nbconvert_exporter": "python",
   "pygments_lexer": "ipython3",
   "version": "3.9.7"
  }
 },
 "nbformat": 4,
 "nbformat_minor": 5
}
