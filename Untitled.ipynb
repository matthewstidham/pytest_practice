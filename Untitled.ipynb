{
 "cells": [
  {
   "cell_type": "code",
   "execution_count": 10,
   "id": "626c745e",
   "metadata": {},
   "outputs": [],
   "source": [
    "r2 = 2 ** 0.5"
   ]
  },
  {
   "cell_type": "code",
   "execution_count": 11,
   "id": "2f0707e4",
   "metadata": {},
   "outputs": [
    {
     "data": {
      "text/plain": [
       "0.7071067811865476"
      ]
     },
     "execution_count": 11,
     "metadata": {},
     "output_type": "execute_result"
    }
   ],
   "source": [
    "r2/2"
   ]
  },
  {
   "cell_type": "code",
   "execution_count": 9,
   "id": "e6989fe9",
   "metadata": {},
   "outputs": [
    {
     "data": {
      "text/plain": [
       "1.8477590650225735"
      ]
     },
     "execution_count": 9,
     "metadata": {},
     "output_type": "execute_result"
    }
   ],
   "source": [
    "(2+(2**.5))**.5"
   ]
  },
  {
   "cell_type": "code",
   "execution_count": 13,
   "id": "fa243467",
   "metadata": {},
   "outputs": [
    {
     "data": {
      "text/plain": [
       "1.8477590650225735"
      ]
     },
     "execution_count": 13,
     "metadata": {},
     "output_type": "execute_result"
    }
   ],
   "source": [
    "r3 = (2+r2)**.5\n",
    "r3"
   ]
  },
  {
   "cell_type": "code",
   "execution_count": 14,
   "id": "4db59b80",
   "metadata": {},
   "outputs": [],
   "source": [
    "def root_two(x):\n",
    "    return (2+x)**.5"
   ]
  },
  {
   "cell_type": "code",
   "execution_count": 17,
   "id": "3cfc1480",
   "metadata": {},
   "outputs": [
    {
     "name": "stdout",
     "output_type": "stream",
     "text": [
      "1.8477590650225735\n",
      "1.9615705608064609\n",
      "1.9903694533443939\n",
      "1.9975909124103448\n",
      "1.9993976373924085\n",
      "1.999849403678289\n",
      "1.9999623505652022\n",
      "1.9999905876191524\n",
      "1.9999976469034038\n",
      "1.9999994117257645\n"
     ]
    }
   ],
   "source": [
    "value = r2\n",
    "for x in range(10):\n",
    "    value = root_two(value)\n",
    "    print(value)"
   ]
  },
  {
   "cell_type": "code",
   "execution_count": 18,
   "id": "15762dec",
   "metadata": {},
   "outputs": [],
   "source": [
    "assert round(3.14159, 2) == 3.14"
   ]
  },
  {
   "cell_type": "code",
   "execution_count": 19,
   "id": "68be5740",
   "metadata": {},
   "outputs": [
    {
     "data": {
      "text/plain": [
       "4.4501477170144023e-308"
      ]
     },
     "execution_count": 19,
     "metadata": {},
     "output_type": "execute_result"
    }
   ],
   "source": [
    "(2**53 - 1) / 2 ** 1074"
   ]
  },
  {
   "cell_type": "code",
   "execution_count": null,
   "id": "01988a61",
   "metadata": {},
   "outputs": [],
   "source": []
  }
 ],
 "metadata": {
  "kernelspec": {
   "display_name": "Python 3 (ipykernel)",
   "language": "python",
   "name": "python3"
  },
  "language_info": {
   "codemirror_mode": {
    "name": "ipython",
    "version": 3
   },
   "file_extension": ".py",
   "mimetype": "text/x-python",
   "name": "python",
   "nbconvert_exporter": "python",
   "pygments_lexer": "ipython3",
   "version": "3.9.7"
  }
 },
 "nbformat": 4,
 "nbformat_minor": 5
}
